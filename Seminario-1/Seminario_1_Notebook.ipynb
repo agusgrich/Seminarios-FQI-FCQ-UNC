{
 "cells": [
  {
   "cell_type": "markdown",
   "id": "79602500-d44d-405c-984c-ca856e35cc7d",
   "metadata": {},
   "source": [
    "<h1 style=\"text-align: center>This is a heading</h1>\n",
    "<p>This is a paragraph.</p>\n",
    "<div>This is a div.</div>\n",
    "\n"
   ]
  },
  {
   "cell_type": "markdown",
   "id": "22c8114a-1ccf-4c75-a6e2-aed5b1f08af1",
   "metadata": {},
   "source": [
    "<h1 style=\"text-align: center;\">Seminario 1:</h1>\n",
    "<h1 style=\"text-align: center;\">Ionización de Fármacos</h1>\n",
    "\n",
    "\n",
    "\n"
   ]
  },
  {
   "cell_type": "markdown",
   "id": "468b7e5c-91ea-4395-9202-22c000245e9b",
   "metadata": {},
   "source": [
    "<p style=\"text-align: left;\">\n",
    "Cuando utilizamos en lenguage de programación Python, lo primero que se hace para poder utilizar una multiplicidad de herramientas incoporadas en el lenguaje es la <strong>carga de librerías<strong>.\n",
    "</p>\n",
    "\n",
    "<p style=\"text-align: left;\"> \n",
    "En éste caso en particular, podemos ver en la celda de abajo que llevamos a cabo la siguiente importación:\n",
    "</p>\n",
    "\n",
    "`from functions_FQI import *`\n",
    "\n",
    "<p style=\"text-align: left;\"> \n",
    "Lo que hacemos con éste comando es incluir en nuestro notebook de trabajo todas las funciones que han sigo preprogramadas para realizar las tareas que nos interesan. Esas funciones pueden verser si abrimos el archivo <strong style=\"background-color:DodgerBlue;\">functions_FQI.py</strong> que se encuentra en el mismo directorio.\n",
    "</p>\n",
    "\n",
    "\n",
    "\n",
    "\n"
   ]
  },
  {
   "cell_type": "code",
   "execution_count": null,
   "id": "f2887f7a-919f-4426-b8b4-a91ce0f316b8",
   "metadata": {},
   "outputs": [],
   "source": [
    "from functions_FQI import *"
   ]
  },
  {
   "cell_type": "markdown",
   "id": "778f2704-7d30-452c-b6e8-e950a6c26814",
   "metadata": {},
   "source": [
    "<h2>Actividad 1: Construcción y visulización de estructuras químicas empleado nomenclatura SMILES</h2>\n",
    "\n",
    "Para el desarrollo de ésta actividad utilizaremos la función <strong style=\"background-color:DodgerBlue;\">construct_molecule_2d()</strong> que se encuentra preprogramada.\n",
    "\n",
    "Dicha función toma 1 sólo argumento: el código SMILES que queremos visualizar."
   ]
  },
  {
   "cell_type": "code",
   "execution_count": null,
   "id": "c668e8c3-6d35-4498-b7e3-4c734f1e3b2e",
   "metadata": {},
   "outputs": [],
   "source": [
    "smiles = \"CCC\"\n",
    "construct_molecule_2d(smiles)"
   ]
  },
  {
   "cell_type": "markdown",
   "id": "3cf553c6-b250-45e7-b441-0d4e6a0ac91d",
   "metadata": {},
   "source": [
    "También podemos utilizar la función <strong style=\"background-color:DodgerBlue;\">MolTo3DView()</strong> para visualizar una estructura en tres dimensiones:"
   ]
  },
  {
   "cell_type": "code",
   "execution_count": null,
   "id": "05d20740-febb-4db9-b0b0-a2db37620a3e",
   "metadata": {},
   "outputs": [],
   "source": [
    "smiles = \"CCC\"\n",
    "MolTo3DView(smiles,surface=True)"
   ]
  },
  {
   "cell_type": "markdown",
   "id": "4b16b5fd-c78c-4a79-83ae-e0e4e8d1638a",
   "metadata": {},
   "source": [
    "<h2>Actividad 2: Identificación de grupos ácido-base</h2>\n",
    "\n",
    "Para el desarrollo de ésta actividad utilizaremos la función <strong style=\"background-color:DodgerBlue;\">show_acid_base_groups()</strong> que se encuentra preprogramada."
   ]
  },
  {
   "cell_type": "code",
   "execution_count": null,
   "id": "7359180a-4a4a-40f3-ba81-3b59fb07331b",
   "metadata": {},
   "outputs": [],
   "source": [
    "diccionario_de_sustancias = {'sulfametoxazol' : \"CC1=CC(NS(=O)(=O)C2=CC=C(N)C=C2)=NO1\",\n",
    "                             'diclofenac' : \"OC(=O)CC1=CC=CC=C1NC1=C(Cl)C=CC=C1Cl\",\n",
    "                              'morfina' : \"[H][C@@]12OC3=C(O)C=CC4=C3[C@@]11CCN(C)[C@]([H])(C4)[C@]1([H])C=C[C@@H]2O\",\n",
    "                              'epinefrina' : \"CNC[C@H](O)C1=CC(O)=C(O)C=C1\",\n",
    "                              'ibuprofeno' : \"CC(C)CC1=CC=C(C=C1)C(C)C(O)=O\",\n",
    "                              'benzocaina' : \"CCOC(=O)C1=CC=C(N)C=C1\",\n",
    "                              'amoxicilina' : \"CC3(C)SC2C(NC(=O)C(N)c1ccc(O)cc1)C(=O)N2C3C(O)=O\",\n",
    "                              'fenitoina' : \"O=C1NC(=O)C(N1)(C1=CC=CC=C1)C1=CC=CC=C1\",\n",
    "                              'clorpromazina' : \"CN(C)CCCN1C2=CC=CC=C2SC2=C1C=C(Cl)C=C2\",\n",
    "                              'oxacilina' : \"CC1=C(C(=NO1)C2=CC=CC=C2)C(=O)N[C@H]3[C@@H]4N(C3=O)[C@H](C(S4)(C)C)C(=O)O\",\n",
    "                            }\n",
    "\n",
    "show_acid_base_groups(diccionario_de_sustancias[\"sulfametoxazol\"])"
   ]
  },
  {
   "cell_type": "markdown",
   "id": "8aa1742d-a80d-49f1-838d-b38e7f21f9c3",
   "metadata": {},
   "source": [
    "<h2>Actividad 3: Cálculo de los porcentajes de especies ionizadas</h2>\n",
    "\n",
    "Del estudio de la unidad teórica, sabemos que es posible utilizar la ecuación de <strong style=\"background-color:DodgerBlue;\">Henderson-Hasselbach</strong> para calcular los porcentajes de especie ionizada y neutra a un determinado pH para una molécula que presenta un equilibrio de ionización.\n",
    "\n",
    "Hemos implementado tal cálculo en la función denominada <strong style=\"background-color:DodgerBlue;\">calculate_ionized_fraction()</strong>\n",
    "\n",
    "Tal como imaginamos, la función requiere de diversos parámetros para realizar el cálculo. Dichos parámetros se incluyen dentro de los paréntesis, tal como se muestra a continuación:\n",
    "\n",
    "`calculate_ionized_fraction(pka,specie='acid',ph1=1, ph2=14,step=0.5,return_data=0)`\n",
    "\n",
    "<strong style=\"background-color:DodgerBlue;\">pka</strong>: Es el valor del pKa conocido para la especie ácido base\n",
    "\n",
    "<strong style=\"background-color:DodgerBlue;\">specie</strong>: Es lo que indica si se trata de un ácido (acid) o una base (base)\n",
    "\n",
    "<strong style=\"background-color:DodgerBlue;\">ph1</strong>: Es el valor inicial del rango de pH para el que queremos computar las fracciones de especies\n",
    "\n",
    "<strong style=\"background-color:DodgerBlue;\">ph2</strong>ph2: Es el valor final del rango de pH para el que queremos computar las fracciones de especies\n",
    "\n",
    "<strong style=\"background-color:DodgerBlue;\">step</strong>: Es el incremente de valor de pH con que queremos informar las fracciones dentro del rango indicado\n",
    "\n",
    "<strong style=\"background-color:DodgerBlue;\">return_data</strong>: Indica la posibilidad de devolver un listado de fracciones por si quiero graficar el perfil de ionización\n"
   ]
  },
  {
   "cell_type": "code",
   "execution_count": null,
   "id": "2ac391bc-f8c4-4952-9f92-18aee8b697fc",
   "metadata": {},
   "outputs": [],
   "source": [
    "calculate_ionized_fraction(7,\"base\",1,14,1,False)"
   ]
  },
  {
   "cell_type": "markdown",
   "id": "092f0c14-f4db-446a-9857-e0048a4d7815",
   "metadata": {},
   "source": [
    "<h2>Actividad 4: Construcción de los perfiles de ioniozación</h2>\n",
    "\n",
    "El base al cálculo de fracciones ionizadas, podemos también construir los perfiles de ionización correspondientes empleando la función <strong style=\"background-color:DodgerBlue;\">plot_ionized_fraction()</strong>\n",
    "\n",
    "Esta función toma los siguientes argumentos:\n",
    "\n",
    "`plot_ionized_fraction(pka,specie='acid',ph1=1, ph2=14,step=0.5)`\n",
    "\n",
    "<strong style=\"background-color:DodgerBlue;\">pka</strong>: Es el valor del pKa conocido para la especie ácido base\n",
    "\n",
    "<strong style=\"background-color:DodgerBlue;\">specie</strong>: Es lo que indica si se trata de un ácido (acid) o una base (base)\n",
    "\n",
    "<strong style=\"background-color:DodgerBlue;\">ph1</strong>: Es el valor inicial del rango de pH para el que queremos computar las fracciones de especies\n",
    "\n",
    "<strong style=\"background-color:DodgerBlue;\">ph2</strong>ph2: Es el valor final del rango de pH para el que queremos computar las fracciones de especies\n",
    "\n",
    "<strong style=\"background-color:DodgerBlue;\">step</strong>: Es el incremente de valor de pH con que queremos informar las fracciones dentro del rango indicado"
   ]
  },
  {
   "cell_type": "code",
   "execution_count": null,
   "id": "f6360d99-8e53-4070-af87-9711f06f833f",
   "metadata": {},
   "outputs": [],
   "source": [
    "plot_ionized_fraction(6,\"base\",1,14,0.5)"
   ]
  },
  {
   "cell_type": "code",
   "execution_count": null,
   "id": "02e83c61-8168-434c-9481-b0d1c8bd37d6",
   "metadata": {},
   "outputs": [],
   "source": []
  }
 ],
 "metadata": {
  "kernelspec": {
   "display_name": "Python 3 (ipykernel)",
   "language": "python",
   "name": "python3"
  },
  "language_info": {
   "codemirror_mode": {
    "name": "ipython",
    "version": 3
   },
   "file_extension": ".py",
   "mimetype": "text/x-python",
   "name": "python",
   "nbconvert_exporter": "python",
   "pygments_lexer": "ipython3",
   "version": "3.10.5"
  }
 },
 "nbformat": 4,
 "nbformat_minor": 5
}
