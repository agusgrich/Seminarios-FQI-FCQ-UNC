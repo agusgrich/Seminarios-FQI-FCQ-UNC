{
  "cells": [
    {
      "cell_type": "markdown",
      "metadata": {
        "id": "W0yymgJJMsC6"
      },
      "source": [
        "<h1 style=\"text-align: center;\">SEMINARIO Nº2:</h1>\n",
        "<h1 style=\"text-align: center;\">Estabilidad química de fármacos</h1>"
      ]
    },
    {
      "cell_type": "markdown",
      "metadata": {
        "id": "eEYHDW7zM6VZ"
      },
      "source": [
        "Se conoce por **estabilidad** a la capacidad de un IFA o medicamento de mantener sus propiedades originales, por un tiempo determinado y dentro de especificaciones de calidad requeridas. Si bien existen diversos tipos de estabilidad (ej.: física, biológica, toxicológica, biofarmacéutica, etc.), nos centraremos en analizar la ***estabilidad química*** de fármacos."
      ]
    },
    {
      "cell_type": "markdown",
      "metadata": {
        "id": "vWGXagnPNSqp"
      },
      "source": [
        "# **Reacciones de degradación de fármacos**"
      ]
    },
    {
      "cell_type": "code",
      "execution_count": 1,
      "metadata": {
        "id": "mGMgvRe91sc3"
      },
      "outputs": [],
      "source": [
        "from functions_Sem2 import *"
      ]
    },
    {
      "cell_type": "markdown",
      "metadata": {
        "id": "eAknI0oINvpJ"
      },
      "source": [
        "Utilizaremos las siguientes funciones para identificar si los compuestos de interés poseen o no grupos hidrolizables u oxidables; y posteriormente podremos visualizar la estructura 2D y 3D de los productos de degradación."
      ]
    },
    {
      "cell_type": "markdown",
      "metadata": {
        "id": "8Ma96KgDcHMd"
      },
      "source": [
        "La función *hydrolysis_products(input_smiles)* necesita como input el SMILES de la molécula a analizar, y genera como resultados la estructura 3D tanto del reactivo como de sus productos.\n",
        "\n",
        "Podemos evaluar los compuestos uno a uno, tal como se ejemplifica abajo:"
      ]
    },
    {
      "cell_type": "code",
      "execution_count": null,
      "metadata": {
        "id": "3mm7pnfLcpxx"
      },
      "outputs": [],
      "source": [
        "input_smiles = \"O=C(OCCN(CC)CC)C1=CC=C(N)C=C1\"\n",
        "hydrolysis_products(input_smiles)"
      ]
    },
    {
      "cell_type": "markdown",
      "metadata": {
        "id": "csMrY4Oqc86p"
      },
      "source": [
        "O analizar el set completo, aplicando lo que se conoce como '*loop for*':"
      ]
    },
    {
      "cell_type": "code",
      "execution_count": 5,
      "metadata": {
        "id": "3EQtwS2mjEva"
      },
      "outputs": [],
      "source": [
        "data_mols = {'mols': ['O=C(OCCN(CC)CC)C1=CC=C(N)C=C1', 'O=C(NCCN(CC)CC)C1=CC=C(N)C=C1',\n",
        "'O=C(NCCN(CC)CC)C1=CC(Cl)=C(N)C=C1OC',\n",
        "'COC1=CC=C(N(C(C2=CC=C(Cl)C=C2)=O)C(C)=C3CC(O)=O)C3=C1',\n",
        "'OC1=C(O)C=C(C[C@@H](C(O)=O)N)C=C1',\n",
        "'NC1=CC=C(S(NC(C)=O)(=O)=O)C=C1',\n",
        "'CC(C)C1=C(C(=C(N1CCC(CC(CC(=O)O)O)O)C2=CC=C(C=C2)F)C3=CC=CC=C3)C(=O)NC4=CC=CC=C4',\n",
        "'O=C1C(O)=C(O)C(C(CO)O)O1']}\n",
        "df = pd.DataFrame(data_mols)"
      ]
    },
    {
      "cell_type": "code",
      "execution_count": null,
      "metadata": {
        "id": "8jBYUtFZxeM0"
      },
      "outputs": [],
      "source": [
        "for input_smiles in df['mols']:\n",
        "  hydrolysis_products(input_smiles)"
      ]
    },
    {
      "cell_type": "markdown",
      "metadata": {
        "id": "ph8bjHLZeDDX"
      },
      "source": [
        "De manera análoga, podemos analizar ahora los fármacos susceptibles a sufrir oxidación, empleando la función oxidize_molecule()"
      ]
    },
    {
      "cell_type": "code",
      "execution_count": null,
      "metadata": {
        "id": "0_EyICzKd5Xe"
      },
      "outputs": [],
      "source": [
        "input_smiles = \"OC1=C(O)C=C(C[C@@H](C(O)=O)N)C=C1\"\n",
        "oxidize_molecule(input_smiles)"
      ]
    },
    {
      "cell_type": "code",
      "execution_count": null,
      "metadata": {
        "id": "-9-OKTAh196o"
      },
      "outputs": [],
      "source": [
        "for input_smiles in df['mols']:\n",
        "  oxidize_molecule(input_smiles)"
      ]
    },
    {
      "cell_type": "markdown",
      "metadata": {
        "id": "kgG0PjNPe8XB"
      },
      "source": [
        "# **Cinética Química**"
      ]
    },
    {
      "cell_type": "markdown",
      "metadata": {
        "id": "jHcg1bFBfPWH"
      },
      "source": [
        "Además de identificar grupos funcionales susceptibles a la degradación química, es de relevancia farmacéutica conocer la velocidad con la que se producen las reacciones de degradación; principalmente para definir períodos en los que fármacos/medicamentos puedan usarse de manera segura. Para ello, es necesario trabajar con conceptos asociados a la **cinética química**."
      ]
    },
    {
      "cell_type": "markdown",
      "metadata": {
        "id": "BAJ5IhoXhHlu"
      },
      "source": [
        "Como sabemos, para determinar el orden de una reacción necesitamos información de cómo varía la concentración en función del tiempo. Utilizando la función *analizar_cineticas()* podremos obtener los resultados directamente, tan solo generando la tabla o el *dataframe* correspondiente."
      ]
    },
    {
      "cell_type": "code",
      "execution_count": null,
      "metadata": {
        "id": "KHOrS_HXhAyk"
      },
      "outputs": [],
      "source": [
        "# Ejemplo de uso con concentración\n",
        "data_concentracion = {'tiempo': [0, 3, 6, 10, 30, 50, 70, 90],\n",
        "                      'concentracion': [230, 228.1359, 227.2883, 226.3333, 220.6868, 207.3255, 198.4291, 190.2132]}\n",
        "df_concentracion = pd.DataFrame(data_concentracion)\n",
        "\n",
        "analizar_cineticas(df_concentracion)"
      ]
    },
    {
      "cell_type": "markdown",
      "source": [
        "Como pueden ver, los valores de r2 son muy cercanos entre sí, y el resultado entonces carece de precisión. Por eso, en la práctica, los ensayos siempre se replican -al menos- por duplicado o triplicado."
      ],
      "metadata": {
        "id": "pkd_V2qS2Q7C"
      }
    },
    {
      "cell_type": "code",
      "source": [
        "data_concentracion = {'tiempo': [0, 3, 6, 10, 30, 50, 70, 90],\n",
        "                      'concentracion1': [235, 229.1359, 227.2883, 226.3333, 220.6868, 207.3255, 198.4291, 190.2132],\n",
        "                      'concentracion2': [230, 226.4, 227.8, 225.2, 217.4, 207.6, 198.7, 190.8],\n",
        "                      'concentracion3': [233, 228.6, 221.0, 226.7, 211.0, 205.9, 199.5, 186.7]}\n",
        "df_concentracion = pd.DataFrame(data_concentracion)\n",
        "\n",
        "# Calcular la columna concentracion_promedio\n",
        "df_concentracion['concentracion_promedio'] = df_concentracion[['concentracion1', 'concentracion2', 'concentracion3']].mean(axis=1)\n",
        "\n",
        "# Calcula y asigna la desviación estándar para cada columna\n",
        "df_concentracion['std_concentracion'] = df_concentracion[['concentracion1', 'concentracion2', 'concentracion3']].std(axis=1)\n",
        "df_concentracion['std_log_concentracion'] = np.log(df_concentracion[['concentracion1', 'concentracion2', 'concentracion3']]).std(axis=1)\n",
        "df_concentracion['std_inversa_concentracion'] = (1 / df_concentracion[['concentracion1', 'concentracion2', 'concentracion3']]).std(axis=1)\n",
        "\n",
        "analizar_cineticas_multiple(df_concentracion)\n",
        "\n"
      ],
      "metadata": {
        "id": "WWNRBW8g2gBN"
      },
      "execution_count": null,
      "outputs": []
    },
    {
      "cell_type": "markdown",
      "metadata": {
        "id": "mshNPkRmiJP7"
      },
      "source": [
        "Sin embargo, en la práctica se suelen emplear diversas metodologías para determinar esas concentraciones. Una de las más económicas y versátiles es la absorbancia UV-Visible. Gracias a la Ley de Lambert & Beer sabemos que - bajo ciertas condiciones - absorbancia es es directamente proporcional a concentración.\n",
        "\n",
        "En este contexto, la función *analizar_cineticas()* también nos brinda la posibilidad de determinar órdenes de reacción a partir de Abs, debiendo especificar para ello los valores del coeficiente de absortividad molar o de extinción y el paso de celda."
      ]
    },
    {
      "cell_type": "code",
      "execution_count": null,
      "metadata": {
        "id": "7xqPlK9tgtGh"
      },
      "outputs": [],
      "source": [
        "# Ejemplo de uso con absorbancia\n",
        "data_absorbancia = {'tiempo': [0, 20, 40, 70, 90, 120, 150, 180],\n",
        "                    'absorbancia': [0.83, 0.71, 0.60, 0.55, 0.47, 0.41, 0.32, 0.24]}\n",
        "df_absorbancia = pd.DataFrame(data_absorbancia)\n",
        "\n",
        "# Puedes proporcionar el coeficiente de extinción y la longitud de camino como argumentos adicionales\n",
        "coef_extincion = 3400\n",
        "paso_celda = 1.20\n",
        "\n",
        "analizar_cineticas(df_absorbancia, coef_extincion, paso_celda)"
      ]
    },
    {
      "cell_type": "markdown",
      "metadata": {
        "id": "_8_X1PIqjErI"
      },
      "source": [
        "Además de determinar órdenes de reacción y constantes de velocidad, hay otros parámetros cinéticos que son de relevancia en Farmacia. Entre ellos destacan los tiempos de vida media y tiempos de vida útil.\n",
        "\n",
        "Las funciones *calcular_tiempo_vida_util()* y *calcular_tiempo_vida_media()* nos permiten obtener esos valores. Considerando que según el orden de reacción la fórmula cambia, es necesario proveerles 4 inputs:\n",
        "- Orden de reacción: 0, 1 o 2.\n",
        "- Constante de velocidad\n",
        "- Concentración inicial (cuando corresponda)\n",
        "- Tiempo de vida media o útil.\n",
        "\n",
        "\n",
        "A modo de ejemplo, consideremos que sabemos que una reacción de hidrólisis sigue un orden 1, con una k = 1.5e-05 s-1 a 25ºC. Si queremos conocer el tiempo de vida útil aplicando la función deberíamos aplicar:"
      ]
    },
    {
      "cell_type": "code",
      "execution_count": null,
      "metadata": {
        "id": "sQNNRcGUkUAi"
      },
      "outputs": [],
      "source": [
        "k_calc, c0_calc, t90_calc  = calcular_tiempo_vida_util(1,1.5e-05,'','no')\n",
        "print(f\"Tiempo de vida útil t(90): {round(t90_calc,2)}\")"
      ]
    },
    {
      "cell_type": "markdown",
      "metadata": {
        "id": "tGqsAQRdkb7w"
      },
      "source": [
        "En este caso, dejamos vacía ('') concentración inicial ya que para el cálculo de este tiempo para una reacción de Orden 1 no es necesario. E indicamos 'no' en el correspondiente a tiempo porque es el dato que NO tenemos.\n",
        "\n",
        "¿Cómo la aplicaríamos si el orden de reacción fuese 0 con una concentración inicial de 0.4M?\n"
      ]
    },
    {
      "cell_type": "code",
      "execution_count": null,
      "metadata": {
        "id": "zjQ72vO9k7ni"
      },
      "outputs": [],
      "source": [
        "k_calc, c0_calc, t90_calc  = calcular_tiempo_vida_util(0,1.5e-05,0.4,'no')\n",
        "print(f\"Tiempo de vida útil t(90): {round(t90_calc,2)}\")"
      ]
    },
    {
      "cell_type": "markdown",
      "metadata": {
        "id": "-9-nyV2ulELK"
      },
      "source": [
        "Y si conociéramos que una reacción X sigue un orden 1 y a 25ºC tiene un t1/2 de 10000min, esta función nos permite conocer la constante de velocidad a esa temperatura según:"
      ]
    },
    {
      "cell_type": "code",
      "execution_count": null,
      "metadata": {
        "id": "XUIgrXJclXO7"
      },
      "outputs": [],
      "source": [
        "k_calc, c0_calc, t90_calc  = calcular_tiempo_vida_util(1,'no','',10000)\n",
        "print(k_calc)"
      ]
    },
    {
      "cell_type": "markdown",
      "metadata": {
        "id": "sAxfqn5HjEqE"
      },
      "source": [
        "Así pues, esta misma función nos permite calcular tiempos de vida media o util, concentraciones iniciales y/o constantes de velocidad a una temperatura determinada según los datos con los que contemos."
      ]
    },
    {
      "cell_type": "markdown",
      "metadata": {
        "id": "jaaOXmcNlzS_"
      },
      "source": [
        "# **Condiciones que afectan estabilidad: Temperatura**"
      ]
    },
    {
      "cell_type": "markdown",
      "metadata": {
        "id": "yicQWKGZl5rY"
      },
      "source": [
        "Gracias a la ecuación de Arrhenius podemos determinar numerosos parámetros cinéticos de relevancia trabajando a distintas temperaturas. Entre ellos, constantes de velocidad (k), energías de activación (Ea) y factor de colisiones (A). Dada su versatilidad e importancia se han definido distintas funciones que permitan obtener información variada según las necesidades y los datos con los que contamos."
      ]
    },
    {
      "cell_type": "markdown",
      "metadata": {
        "id": "FuhGP83hnF25"
      },
      "source": [
        "Una posibilidad es contar con datos de constantes de velocidad a distintas temperaturas, y querer conocer los valores de Ea y/o A.\n",
        "\n",
        "Hay que tener en cuenta que la ecuación de Arrhenius necesita que las T estén expresadas en grados Kelvin. Para simplicar el cálculo, la función directamente convierte los datos, siempre y cuando se especifique la unidad de temperatura, tal como se ejemplifica abajo."
      ]
    },
    {
      "cell_type": "code",
      "execution_count": null,
      "metadata": {
        "id": "SBYuERBMnF9k"
      },
      "outputs": [],
      "source": [
        "# Ejemplo de uso\n",
        "arrhenius_data = {'k': [19, 14, 11, 5, 1.4, 0.95],\n",
        "                  'Temperature': [100, 90, 80, 70, 60, 50]}\n",
        "\n",
        "arrhenius_data_C = pd.DataFrame(arrhenius_data)\n",
        "\n",
        "arrhenius_data_df_C = preparar_dataframe(arrhenius_data_C, temp_unit='C')\n",
        "\n",
        "graficar_arrhenius(arrhenius_data_df_C)"
      ]
    },
    {
      "cell_type": "markdown",
      "metadata": {
        "id": "3HBJXwKSn3yO"
      },
      "source": [
        "De manera análoga, si ya contamos con los valores en grados Kelvin, deberíamos aplicar la función especificando K en vez de C, de la siguiente manera:"
      ]
    },
    {
      "cell_type": "code",
      "execution_count": null,
      "metadata": {
        "id": "AiqZD_d8n-rb"
      },
      "outputs": [],
      "source": [
        "arrhenius_data = {'k': [19, 14, 11, 5, 1.4, 0.95],\n",
        "                  'Temperature': [373.15, 363.15, 353.15, 343.15, 333.15, 323.15]}\n",
        "\n",
        "arrhenius_data_K = pd.DataFrame(arrhenius_data)\n",
        "\n",
        "arrhenius_data_df_K = preparar_dataframe(arrhenius_data_K, temp_unit='K')\n",
        "\n",
        "graficar_arrhenius(arrhenius_data_df_K)"
      ]
    },
    {
      "cell_type": "markdown",
      "metadata": {
        "id": "6eSCbvVUoQMx"
      },
      "source": [
        "Otro uso ampliamente asignado a la ecuación de Arrhenius es el Método de Degradación Acelerada, que nos permite identificar rápidamente parámetros cinéticos de interés tales como constantes de velocidad o Energía de activación trabajando a altas temperaturas.\n",
        "\n",
        "Los datos necesarios para aplicar este método son:\n",
        "- Dos valores de constantes de velocidad (k1 y k2) a dos temperaturas diferentes (T1 y T2).\n",
        "- Energía de activación.\n",
        "\n",
        "Cuando alguno de esos valores sea desconocido, se puede usar la ecuación para calcularlo. Por lo tanto, hemos desarrollado dos funciones para ello, denominadas *calcular_Ea()* y *calcular_k2()*\n",
        "\n",
        "Entonces, si conocemos los pares k1-T1 y k2-T2, podremos calcular la Ea de la reacción según:"
      ]
    },
    {
      "cell_type": "code",
      "execution_count": null,
      "metadata": {
        "id": "BumOQzIyoQWQ"
      },
      "outputs": [],
      "source": [
        "#Ejemplo de uso\n",
        "T1 = 273.15 + 80 #Tiene que estar en K!\n",
        "T2 = 273.15 + 45 #Tiene que estar en K!\n",
        "k1 = 0.0000766\n",
        "k2 = 0.00000941\n",
        "\n",
        "Ea_calculada = calcular_Ea(T1, T2, k1, k2)\n",
        "\n",
        "print(f'Ea calculada: {Ea_calculada:.4f} cal/mol')"
      ]
    },
    {
      "cell_type": "markdown",
      "metadata": {
        "id": "TsYLg1b_pghc"
      },
      "source": [
        "Y si ahora queremos conocer la constante de velocidad a otra temperatura (ej.: 25ºC), podemos aplicar:"
      ]
    },
    {
      "cell_type": "code",
      "execution_count": null,
      "metadata": {
        "id": "7D5aPAZ0pnGJ"
      },
      "outputs": [],
      "source": [
        "T3 = 273.15 + 25 #Tiene que estar en K!\n",
        "\n",
        "k3_calculada = calcular_k(Ea_calculada, T1, T3, k1)\n",
        "print(f'k3 calculada: {k3_calculada}')"
      ]
    },
    {
      "cell_type": "markdown",
      "metadata": {
        "id": "O2X7rkdvqGSO"
      },
      "source": [
        "Podríamos corroborar el resultado usando el otro par k-T."
      ]
    },
    {
      "cell_type": "code",
      "execution_count": null,
      "metadata": {
        "id": "jONjDrAnqCyD"
      },
      "outputs": [],
      "source": [
        "T3 = 273.15 + 25 #Tiene que estar en K!\n",
        "\n",
        "k3_calculada = calcular_k(Ea_calculada, T2, T3, k2)\n",
        "print(f'k3 calculada: {k3_calculada}')"
      ]
    }
  ],
  "metadata": {
    "colab": {
      "provenance": []
    },
    "kernelspec": {
      "display_name": "Python 3 (ipykernel)",
      "language": "python",
      "name": "python3"
    },
    "language_info": {
      "codemirror_mode": {
        "name": "ipython",
        "version": 3
      },
      "file_extension": ".py",
      "mimetype": "text/x-python",
      "name": "python",
      "nbconvert_exporter": "python",
      "pygments_lexer": "ipython3",
      "version": "3.10.5"
    }
  },
  "nbformat": 4,
  "nbformat_minor": 0
}